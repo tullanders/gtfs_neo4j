{
 "cells": [
  {
   "cell_type": "markdown",
   "metadata": {},
   "source": [
    "# Notebook for extracting railroad traffic from large GTFS-dataset\n",
    "This notebook is customized for GTFS Sweden2 Dataset from [Trafiklab.se](https://www.trafiklab.se/api/trafiklab-apis/gtfs-sverige-2/).\n",
    "\n",
    "\n"
   ]
  },
  {
   "cell_type": "code",
   "execution_count": 5,
   "metadata": {},
   "outputs": [
    {
     "name": "stdout",
     "output_type": "stream",
     "text": [
      "Done!\n"
     ]
    }
   ],
   "source": [
    "import pandas as pd\n",
    "from datetime import datetime, timedelta\n",
    "\n",
    "path = '../data/gtfs/sweden (11)'\n",
    "savepath = '../data/gtfs'\n",
    "\n",
    "# Load GTFS files into pandas DataFrames\n",
    "routes_df = pd.read_csv(path + '/routes.txt', dtype={'route_id': str, 'route_type': int})\n",
    "\n",
    "# Save routes.txt\n",
    "# Filter out all route_types that are above 106 (non-train) and agency 275 (SL)\n",
    "train_routes = routes_df[(routes_df['route_type'] <= 106) & (routes_df['agency_id'] != 275)]\n",
    "\n",
    "#train_routes = routes_df[routes_df['route_type'] <= 106 && routes_df['agency_name'] != 275]\n",
    "train_routes.to_csv(savepath + '/routes.txt', index=False)\n",
    "\n",
    "# agency.txt\n",
    "agency_df = pd.read_csv(path + '/agency.txt')\n",
    "train_agency = agency_df[agency_df['agency_id'].isin(train_routes['agency_id'])]\n",
    "train_agency.to_csv(savepath + '/agency.txt', index=False)\n",
    "\n",
    "#trips\n",
    "trips_df = pd.read_csv(path + '/trips.txt', dtype={'trip_id':str,'service_id': str, 'route_id': str})\n",
    "train_trips = trips_df[trips_df['route_id'].isin(train_routes['route_id'])]\n",
    "train_trips.to_csv(savepath + '/trips.txt')\n",
    "\n",
    "#calendar_times.txt\n",
    "calendar_times_df = pd.read_csv(path + '/calendar_dates.txt', dtype={'service_id': str})\n",
    "calendar_times_df['date'] = pd.to_datetime(calendar_times_df['date']) # convert to datetime\n",
    "#train_calendar_times = calendar_times_df[calendar_times_df['service_id'].isin(train_trips['service_id'])]\n",
    "\n",
    "today = pd.to_datetime(datetime.today().strftime('%Y-%m-%d'))\n",
    "days_to_add = 30\n",
    "future_date = today + timedelta(days=days_to_add)\n",
    "\n",
    "train_calendar_times = calendar_times_df[\n",
    "    (calendar_times_df['service_id'].isin(train_trips['service_id'])) &\n",
    "    (calendar_times_df['date'] >= today) &\n",
    "    (calendar_times_df['date'] <= future_date)\n",
    "]\n",
    "train_calendar_times.to_csv(savepath + '/calendar_dates.txt', index=False)\n",
    "\n",
    "#stop_times.txt\n",
    "stop_times_df = pd.read_csv(path + '/stop_times.txt', dtype={'trip_id': str, 'stop_id': str})\n",
    "train_stop_times = stop_times_df[stop_times_df['trip_id'].isin(train_trips['trip_id'])]\n",
    "train_stop_times.to_csv(savepath + '/stop_times.txt', index=False)\n",
    "\n",
    "#stops.txt\n",
    "stops_df = pd.read_csv(path + '/stops.txt', dtype={'stop_id': str})\n",
    "train_stops = stops_df[stops_df['stop_id'].isin(train_stop_times['stop_id'])]\n",
    "train_stops.to_csv(savepath + '/stops.txt', index=False)\n",
    "\n",
    "#transfers.txt\n",
    "transfers_df = pd.read_csv(path + '/transfers.txt', dtype={'from_stop_id': str, 'to_stop_id': str})\n",
    "\n",
    "# Merge transfers with stops on from_stop_id\n",
    "transfers_with_from_stops = pd.merge(transfers_df, train_stops, left_on='from_stop_id', right_on='stop_id', how='inner')\n",
    "\n",
    "# Merge transfers with stops on to_stop_id\n",
    "transfers_with_to_stops = pd.merge(transfers_df, train_stops, left_on='to_stop_id', right_on='stop_id', how='inner')\n",
    "\n",
    "# Concatenate the two dataframes to get transfers with either from or to stop\n",
    "transfers_filtered = pd.concat([transfers_with_from_stops, transfers_with_to_stops])\n",
    "\n",
    "# Drop duplicate rows\n",
    "transfers_filtered.drop_duplicates(inplace=True)\n",
    "\n",
    "transfers_filtered.to_csv(savepath + '/transfers.txt')\n",
    "\n",
    "# print done\n",
    "print('Done!')\n"
   ]
  },
  {
   "cell_type": "markdown",
   "metadata": {},
   "source": []
  }
 ],
 "metadata": {
  "kernelspec": {
   "display_name": "Python 3",
   "language": "python",
   "name": "python3"
  },
  "language_info": {
   "codemirror_mode": {
    "name": "ipython",
    "version": 3
   },
   "file_extension": ".py",
   "mimetype": "text/x-python",
   "name": "python",
   "nbconvert_exporter": "python",
   "pygments_lexer": "ipython3",
   "version": "3.11.4"
  }
 },
 "nbformat": 4,
 "nbformat_minor": 2
}
